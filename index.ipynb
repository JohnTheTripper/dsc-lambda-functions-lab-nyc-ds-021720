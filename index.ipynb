{
 "cells": [
  {
   "cell_type": "markdown",
   "metadata": {},
   "source": [
    "# Lambda Functions - Lab\n",
    "\n",
    "## Introduction\n",
    "\n",
    "In this lab, you'll get some hands-on practice creating and using lambda functions.\n",
    "\n",
    "## Objectives\n",
    "In this lab you will: \n",
    "* Create lambda functions to use as arguments of other functions   \n",
    "* Use the `.map()` or `.apply()` method to apply a function to a pandas series or DataFrame"
   ]
  },
  {
   "cell_type": "markdown",
   "metadata": {},
   "source": [
    "## Lambda Functions"
   ]
  },
  {
   "cell_type": "code",
   "execution_count": 9,
   "metadata": {},
   "outputs": [
    {
     "data": {
      "text/html": [
       "<div>\n",
       "<style scoped>\n",
       "    .dataframe tbody tr th:only-of-type {\n",
       "        vertical-align: middle;\n",
       "    }\n",
       "\n",
       "    .dataframe tbody tr th {\n",
       "        vertical-align: top;\n",
       "    }\n",
       "\n",
       "    .dataframe thead th {\n",
       "        text-align: right;\n",
       "    }\n",
       "</style>\n",
       "<table border=\"1\" class=\"dataframe\">\n",
       "  <thead>\n",
       "    <tr style=\"text-align: right;\">\n",
       "      <th></th>\n",
       "      <th>business_id</th>\n",
       "      <th>cool</th>\n",
       "      <th>date</th>\n",
       "      <th>funny</th>\n",
       "      <th>review_id</th>\n",
       "      <th>stars</th>\n",
       "      <th>text</th>\n",
       "      <th>useful</th>\n",
       "      <th>user_id</th>\n",
       "    </tr>\n",
       "  </thead>\n",
       "  <tbody>\n",
       "    <tr>\n",
       "      <td>1</td>\n",
       "      <td>pomGBqfbxcqPv14c3XH-ZQ</td>\n",
       "      <td>0</td>\n",
       "      <td>2012-11-13</td>\n",
       "      <td>0</td>\n",
       "      <td>dDl8zu1vWPdKGihJrwQbpw</td>\n",
       "      <td>5</td>\n",
       "      <td>I love this place! My fiance And I go here atl...</td>\n",
       "      <td>0</td>\n",
       "      <td>msQe1u7Z_XuqjGoqhB0J5g</td>\n",
       "    </tr>\n",
       "    <tr>\n",
       "      <td>2</td>\n",
       "      <td>jtQARsP6P-LbkyjbO1qNGg</td>\n",
       "      <td>1</td>\n",
       "      <td>2014-10-23</td>\n",
       "      <td>1</td>\n",
       "      <td>LZp4UX5zK3e-c5ZGSeo3kA</td>\n",
       "      <td>1</td>\n",
       "      <td>Terrible. Dry corn bread. Rib tips were all fa...</td>\n",
       "      <td>3</td>\n",
       "      <td>msQe1u7Z_XuqjGoqhB0J5g</td>\n",
       "    </tr>\n",
       "    <tr>\n",
       "      <td>4</td>\n",
       "      <td>Ums3gaP2qM3W1XcA5r6SsQ</td>\n",
       "      <td>0</td>\n",
       "      <td>2014-09-05</td>\n",
       "      <td>0</td>\n",
       "      <td>jsDu6QEJHbwP2Blom1PLCA</td>\n",
       "      <td>5</td>\n",
       "      <td>Delicious healthy food. The steak is amazing. ...</td>\n",
       "      <td>0</td>\n",
       "      <td>msQe1u7Z_XuqjGoqhB0J5g</td>\n",
       "    </tr>\n",
       "    <tr>\n",
       "      <td>5</td>\n",
       "      <td>vgfcTvK81oD4r50NMjU2Ag</td>\n",
       "      <td>0</td>\n",
       "      <td>2011-02-25</td>\n",
       "      <td>0</td>\n",
       "      <td>pfavA0hr3nyqO61oupj-lA</td>\n",
       "      <td>1</td>\n",
       "      <td>This place sucks. The customer service is horr...</td>\n",
       "      <td>2</td>\n",
       "      <td>msQe1u7Z_XuqjGoqhB0J5g</td>\n",
       "    </tr>\n",
       "    <tr>\n",
       "      <td>10</td>\n",
       "      <td>yFumR3CWzpfvTH2FCthvVw</td>\n",
       "      <td>0</td>\n",
       "      <td>2016-06-15</td>\n",
       "      <td>0</td>\n",
       "      <td>STiFMww2z31siPY7BWNC2g</td>\n",
       "      <td>5</td>\n",
       "      <td>I have been an Emerald Club member for a numbe...</td>\n",
       "      <td>0</td>\n",
       "      <td>TlvV-xJhmh7LCwJYXkV-cg</td>\n",
       "    </tr>\n",
       "    <tr>\n",
       "      <td>11</td>\n",
       "      <td>UBv8heCQR0RPnUQG0zkXIQ</td>\n",
       "      <td>0</td>\n",
       "      <td>2016-09-23</td>\n",
       "      <td>0</td>\n",
       "      <td>HkYqGb0Gplmmk-xlHTRBoA</td>\n",
       "      <td>1</td>\n",
       "      <td>The score should be negative. Its HORRIBLE. Th...</td>\n",
       "      <td>0</td>\n",
       "      <td>NhOc64RsrTT1Dls50yYW8g</td>\n",
       "    </tr>\n",
       "    <tr>\n",
       "      <td>12</td>\n",
       "      <td>hdgYnadxg0GANhWOJabr2g</td>\n",
       "      <td>0</td>\n",
       "      <td>2014-08-23</td>\n",
       "      <td>0</td>\n",
       "      <td>RgqWdZA4xR023iP3T6jVfA</td>\n",
       "      <td>5</td>\n",
       "      <td>I went there twice and I am pretty happy with ...</td>\n",
       "      <td>0</td>\n",
       "      <td>NhOc64RsrTT1Dls50yYW8g</td>\n",
       "    </tr>\n",
       "    <tr>\n",
       "      <td>19</td>\n",
       "      <td>gZGsReG0VeX4uKViHTB9EQ</td>\n",
       "      <td>0</td>\n",
       "      <td>2017-08-16</td>\n",
       "      <td>0</td>\n",
       "      <td>51RHs_V_fjuistnuKxNpEg</td>\n",
       "      <td>5</td>\n",
       "      <td>Finally! After trying many Mexican restaurants...</td>\n",
       "      <td>0</td>\n",
       "      <td>5ngpW5tf3ep680eG1HxHzA</td>\n",
       "    </tr>\n",
       "    <tr>\n",
       "      <td>25</td>\n",
       "      <td>f-v1fvtnbdw_QQRsCnwH-g</td>\n",
       "      <td>0</td>\n",
       "      <td>2017-11-18</td>\n",
       "      <td>0</td>\n",
       "      <td>alI_kRKyEHfdHibYGgtJbw</td>\n",
       "      <td>1</td>\n",
       "      <td>I have to write a review on the Fractured Prun...</td>\n",
       "      <td>0</td>\n",
       "      <td>Fc_nb6N6Sdurqb-rwsY1Bw</td>\n",
       "    </tr>\n",
       "    <tr>\n",
       "      <td>26</td>\n",
       "      <td>yz66FIUPDKGhILDWzRLeKg</td>\n",
       "      <td>0</td>\n",
       "      <td>2017-11-18</td>\n",
       "      <td>0</td>\n",
       "      <td>85DRIjwPJOTb4q0qOlBstw</td>\n",
       "      <td>1</td>\n",
       "      <td>I wish i could tell you all about the food but...</td>\n",
       "      <td>1</td>\n",
       "      <td>Fc_nb6N6Sdurqb-rwsY1Bw</td>\n",
       "    </tr>\n",
       "    <tr>\n",
       "      <td>27</td>\n",
       "      <td>6qDRqHWqf0EeHupSUEBfKg</td>\n",
       "      <td>0</td>\n",
       "      <td>2015-12-10</td>\n",
       "      <td>0</td>\n",
       "      <td>GbiLIKmQPVCBtdNkTVdVSA</td>\n",
       "      <td>5</td>\n",
       "      <td>Wonderful! One of my favorite places. BBQ is e...</td>\n",
       "      <td>0</td>\n",
       "      <td>G22ITfVETYHtIhnn5lLRrQ</td>\n",
       "    </tr>\n",
       "    <tr>\n",
       "      <td>28</td>\n",
       "      <td>7AlULGZI1pHt0imODsqdkg</td>\n",
       "      <td>0</td>\n",
       "      <td>2012-02-12</td>\n",
       "      <td>0</td>\n",
       "      <td>UaHgsL0xS4UnJ_iKqeOk_w</td>\n",
       "      <td>5</td>\n",
       "      <td>The price is about the same as Quizinos. The s...</td>\n",
       "      <td>0</td>\n",
       "      <td>FjH3TH8OvHGLNEbzdEYlNg</td>\n",
       "    </tr>\n",
       "    <tr>\n",
       "      <td>29</td>\n",
       "      <td>th4pZ5LkoIIkb1Vmu_m2DA</td>\n",
       "      <td>0</td>\n",
       "      <td>2012-02-12</td>\n",
       "      <td>0</td>\n",
       "      <td>c4zzAD1S6721Fh-acCBy-g</td>\n",
       "      <td>4</td>\n",
       "      <td>The food was ok. You get a lot of food for the...</td>\n",
       "      <td>0</td>\n",
       "      <td>FjH3TH8OvHGLNEbzdEYlNg</td>\n",
       "    </tr>\n",
       "    <tr>\n",
       "      <td>30</td>\n",
       "      <td>nsSfCKW9KDB4COj9bzXApw</td>\n",
       "      <td>0</td>\n",
       "      <td>2012-02-12</td>\n",
       "      <td>0</td>\n",
       "      <td>TTBwocu2mvqJFJrwmJN0Sw</td>\n",
       "      <td>5</td>\n",
       "      <td>The staff were friendly and helpful. The food ...</td>\n",
       "      <td>1</td>\n",
       "      <td>FjH3TH8OvHGLNEbzdEYlNg</td>\n",
       "    </tr>\n",
       "    <tr>\n",
       "      <td>31</td>\n",
       "      <td>cP8ErpZfRzdVR5Fvks-pnQ</td>\n",
       "      <td>0</td>\n",
       "      <td>2012-02-12</td>\n",
       "      <td>0</td>\n",
       "      <td>-CresnnXQSHrQ85Ogm-Pqw</td>\n",
       "      <td>5</td>\n",
       "      <td>The staff were very helpful. We painted potter...</td>\n",
       "      <td>0</td>\n",
       "      <td>FjH3TH8OvHGLNEbzdEYlNg</td>\n",
       "    </tr>\n",
       "    <tr>\n",
       "      <td>32</td>\n",
       "      <td>Edr6SafmQrZa6CcFuItoqg</td>\n",
       "      <td>0</td>\n",
       "      <td>2014-06-03</td>\n",
       "      <td>0</td>\n",
       "      <td>U04YgYr4PiGUxB46J4xapg</td>\n",
       "      <td>2</td>\n",
       "      <td>Limited vegetarian options. Ordered Greek sala...</td>\n",
       "      <td>0</td>\n",
       "      <td>B7Fh30KQT1xPSGt_pIhRRA</td>\n",
       "    </tr>\n",
       "    <tr>\n",
       "      <td>35</td>\n",
       "      <td>SpJYus_184M2TdT7t52rIA</td>\n",
       "      <td>0</td>\n",
       "      <td>2016-11-18</td>\n",
       "      <td>0</td>\n",
       "      <td>s9cpVj40VR_yl0lXbZQe6w</td>\n",
       "      <td>5</td>\n",
       "      <td>I trust my vehicles here. Comparable prices. M...</td>\n",
       "      <td>0</td>\n",
       "      <td>zx_Op2OAOM_fRic9tU-jqA</td>\n",
       "    </tr>\n",
       "    <tr>\n",
       "      <td>40</td>\n",
       "      <td>qdC2h3MqCNussc5lhzL7gg</td>\n",
       "      <td>0</td>\n",
       "      <td>2015-11-05</td>\n",
       "      <td>0</td>\n",
       "      <td>AJ0IglpYAp2D0daOlVGIdg</td>\n",
       "      <td>1</td>\n",
       "      <td>This place doesn't even deserve 1 star. Horrib...</td>\n",
       "      <td>18</td>\n",
       "      <td>Ka7TIp74VHSa90rfdg4_2g</td>\n",
       "    </tr>\n",
       "    <tr>\n",
       "      <td>41</td>\n",
       "      <td>XgRDG9E_WLEbl8S-QUqQkQ</td>\n",
       "      <td>0</td>\n",
       "      <td>2015-11-05</td>\n",
       "      <td>0</td>\n",
       "      <td>5D_MsAJHrMa8QKkpE3g1Sg</td>\n",
       "      <td>5</td>\n",
       "      <td>The butter burger was cooked perfectly and jui...</td>\n",
       "      <td>0</td>\n",
       "      <td>Ka7TIp74VHSa90rfdg4_2g</td>\n",
       "    </tr>\n",
       "    <tr>\n",
       "      <td>42</td>\n",
       "      <td>awgoBwuhzlLGKEIverTGjQ</td>\n",
       "      <td>0</td>\n",
       "      <td>2017-01-21</td>\n",
       "      <td>0</td>\n",
       "      <td>5bWN_IN8MQGjJ6_ZIXffDw</td>\n",
       "      <td>5</td>\n",
       "      <td>Best location ever! I love love love the manag...</td>\n",
       "      <td>0</td>\n",
       "      <td>yyPHK6khPa4-ErV9U32x3A</td>\n",
       "    </tr>\n",
       "  </tbody>\n",
       "</table>\n",
       "</div>"
      ],
      "text/plain": [
       "               business_id  cool        date  funny               review_id  \\\n",
       "1   pomGBqfbxcqPv14c3XH-ZQ     0  2012-11-13      0  dDl8zu1vWPdKGihJrwQbpw   \n",
       "2   jtQARsP6P-LbkyjbO1qNGg     1  2014-10-23      1  LZp4UX5zK3e-c5ZGSeo3kA   \n",
       "4   Ums3gaP2qM3W1XcA5r6SsQ     0  2014-09-05      0  jsDu6QEJHbwP2Blom1PLCA   \n",
       "5   vgfcTvK81oD4r50NMjU2Ag     0  2011-02-25      0  pfavA0hr3nyqO61oupj-lA   \n",
       "10  yFumR3CWzpfvTH2FCthvVw     0  2016-06-15      0  STiFMww2z31siPY7BWNC2g   \n",
       "11  UBv8heCQR0RPnUQG0zkXIQ     0  2016-09-23      0  HkYqGb0Gplmmk-xlHTRBoA   \n",
       "12  hdgYnadxg0GANhWOJabr2g     0  2014-08-23      0  RgqWdZA4xR023iP3T6jVfA   \n",
       "19  gZGsReG0VeX4uKViHTB9EQ     0  2017-08-16      0  51RHs_V_fjuistnuKxNpEg   \n",
       "25  f-v1fvtnbdw_QQRsCnwH-g     0  2017-11-18      0  alI_kRKyEHfdHibYGgtJbw   \n",
       "26  yz66FIUPDKGhILDWzRLeKg     0  2017-11-18      0  85DRIjwPJOTb4q0qOlBstw   \n",
       "27  6qDRqHWqf0EeHupSUEBfKg     0  2015-12-10      0  GbiLIKmQPVCBtdNkTVdVSA   \n",
       "28  7AlULGZI1pHt0imODsqdkg     0  2012-02-12      0  UaHgsL0xS4UnJ_iKqeOk_w   \n",
       "29  th4pZ5LkoIIkb1Vmu_m2DA     0  2012-02-12      0  c4zzAD1S6721Fh-acCBy-g   \n",
       "30  nsSfCKW9KDB4COj9bzXApw     0  2012-02-12      0  TTBwocu2mvqJFJrwmJN0Sw   \n",
       "31  cP8ErpZfRzdVR5Fvks-pnQ     0  2012-02-12      0  -CresnnXQSHrQ85Ogm-Pqw   \n",
       "32  Edr6SafmQrZa6CcFuItoqg     0  2014-06-03      0  U04YgYr4PiGUxB46J4xapg   \n",
       "35  SpJYus_184M2TdT7t52rIA     0  2016-11-18      0  s9cpVj40VR_yl0lXbZQe6w   \n",
       "40  qdC2h3MqCNussc5lhzL7gg     0  2015-11-05      0  AJ0IglpYAp2D0daOlVGIdg   \n",
       "41  XgRDG9E_WLEbl8S-QUqQkQ     0  2015-11-05      0  5D_MsAJHrMa8QKkpE3g1Sg   \n",
       "42  awgoBwuhzlLGKEIverTGjQ     0  2017-01-21      0  5bWN_IN8MQGjJ6_ZIXffDw   \n",
       "\n",
       "    stars                                               text  useful  \\\n",
       "1       5  I love this place! My fiance And I go here atl...       0   \n",
       "2       1  Terrible. Dry corn bread. Rib tips were all fa...       3   \n",
       "4       5  Delicious healthy food. The steak is amazing. ...       0   \n",
       "5       1  This place sucks. The customer service is horr...       2   \n",
       "10      5  I have been an Emerald Club member for a numbe...       0   \n",
       "11      1  The score should be negative. Its HORRIBLE. Th...       0   \n",
       "12      5  I went there twice and I am pretty happy with ...       0   \n",
       "19      5  Finally! After trying many Mexican restaurants...       0   \n",
       "25      1  I have to write a review on the Fractured Prun...       0   \n",
       "26      1  I wish i could tell you all about the food but...       1   \n",
       "27      5  Wonderful! One of my favorite places. BBQ is e...       0   \n",
       "28      5  The price is about the same as Quizinos. The s...       0   \n",
       "29      4  The food was ok. You get a lot of food for the...       0   \n",
       "30      5  The staff were friendly and helpful. The food ...       1   \n",
       "31      5  The staff were very helpful. We painted potter...       0   \n",
       "32      2  Limited vegetarian options. Ordered Greek sala...       0   \n",
       "35      5  I trust my vehicles here. Comparable prices. M...       0   \n",
       "40      1  This place doesn't even deserve 1 star. Horrib...      18   \n",
       "41      5  The butter burger was cooked perfectly and jui...       0   \n",
       "42      5  Best location ever! I love love love the manag...       0   \n",
       "\n",
       "                   user_id  \n",
       "1   msQe1u7Z_XuqjGoqhB0J5g  \n",
       "2   msQe1u7Z_XuqjGoqhB0J5g  \n",
       "4   msQe1u7Z_XuqjGoqhB0J5g  \n",
       "5   msQe1u7Z_XuqjGoqhB0J5g  \n",
       "10  TlvV-xJhmh7LCwJYXkV-cg  \n",
       "11  NhOc64RsrTT1Dls50yYW8g  \n",
       "12  NhOc64RsrTT1Dls50yYW8g  \n",
       "19  5ngpW5tf3ep680eG1HxHzA  \n",
       "25  Fc_nb6N6Sdurqb-rwsY1Bw  \n",
       "26  Fc_nb6N6Sdurqb-rwsY1Bw  \n",
       "27  G22ITfVETYHtIhnn5lLRrQ  \n",
       "28  FjH3TH8OvHGLNEbzdEYlNg  \n",
       "29  FjH3TH8OvHGLNEbzdEYlNg  \n",
       "30  FjH3TH8OvHGLNEbzdEYlNg  \n",
       "31  FjH3TH8OvHGLNEbzdEYlNg  \n",
       "32  B7Fh30KQT1xPSGt_pIhRRA  \n",
       "35  zx_Op2OAOM_fRic9tU-jqA  \n",
       "40  Ka7TIp74VHSa90rfdg4_2g  \n",
       "41  Ka7TIp74VHSa90rfdg4_2g  \n",
       "42  yyPHK6khPa4-ErV9U32x3A  "
      ]
     },
     "execution_count": 9,
     "metadata": {},
     "output_type": "execute_result"
    }
   ],
   "source": [
    "import pandas as pd\n",
    "df = pd.read_csv('Yelp_Reviews.csv', index_col=0)\n",
    "df.head(20)"
   ]
  },
  {
   "cell_type": "markdown",
   "metadata": {},
   "source": [
    "## Simple arithmetic\n",
    "\n",
    "Use a lambda function to create a new column called `'stars_squared'` by squaring the stars column."
   ]
  },
  {
   "cell_type": "code",
   "execution_count": 4,
   "metadata": {},
   "outputs": [],
   "source": [
    "# Just defining a normal function first\n",
    "def square(x):\n",
    "    return x**2\n"
   ]
  },
  {
   "cell_type": "code",
   "execution_count": 15,
   "metadata": {},
   "outputs": [
    {
     "data": {
      "text/plain": [
       "1     25\n",
       "2      1\n",
       "4     25\n",
       "5      1\n",
       "10    25\n",
       "11     1\n",
       "12    25\n",
       "19    25\n",
       "25     1\n",
       "26     1\n",
       "27    25\n",
       "28    25\n",
       "29    16\n",
       "30    25\n",
       "31    25\n",
       "32     4\n",
       "35    25\n",
       "40     1\n",
       "41    25\n",
       "42    25\n",
       "Name: stars, dtype: int64"
      ]
     },
     "execution_count": 15,
     "metadata": {},
     "output_type": "execute_result"
    }
   ],
   "source": [
    "# Just read-only for now, don't mutate\n",
    "df['stars'].map(lambda x: x**2).head(20)"
   ]
  },
  {
   "cell_type": "code",
   "execution_count": null,
   "metadata": {},
   "outputs": [],
   "source": [
    "# Your code here\n"
   ]
  },
  {
   "cell_type": "markdown",
   "metadata": {},
   "source": [
    "## Dates\n",
    "Select the month from the date string using a lambda function."
   ]
  },
  {
   "cell_type": "code",
   "execution_count": null,
   "metadata": {},
   "outputs": [],
   "source": [
    "# messing around\n"
   ]
  },
  {
   "cell_type": "code",
   "execution_count": 16,
   "metadata": {},
   "outputs": [
    {
     "data": {
      "text/plain": [
       "1     11\n",
       "2     10\n",
       "4     09\n",
       "5     02\n",
       "10    06\n",
       "11    09\n",
       "12    08\n",
       "19    08\n",
       "25    11\n",
       "26    11\n",
       "27    12\n",
       "28    02\n",
       "29    02\n",
       "30    02\n",
       "31    02\n",
       "32    06\n",
       "35    11\n",
       "40    11\n",
       "41    11\n",
       "42    01\n",
       "Name: date, dtype: object"
      ]
     },
     "execution_count": 16,
     "metadata": {},
     "output_type": "execute_result"
    }
   ],
   "source": [
    "# Your code here\n",
    "\n",
    "df['date'].map(lambda x: x[5:7]).head(20)"
   ]
  },
  {
   "cell_type": "code",
   "execution_count": null,
   "metadata": {},
   "outputs": [],
   "source": []
  },
  {
   "cell_type": "markdown",
   "metadata": {},
   "source": [
    "## What is the average number of words for a yelp review?\n",
    "Do this with a single line of code!"
   ]
  },
  {
   "cell_type": "code",
   "execution_count": 19,
   "metadata": {},
   "outputs": [
    {
     "data": {
      "text/plain": [
       "3.724521072796935"
      ]
     },
     "execution_count": 19,
     "metadata": {},
     "output_type": "execute_result"
    }
   ],
   "source": [
    "# Your code here\n",
    "df['stars'].mean()"
   ]
  },
  {
   "cell_type": "markdown",
   "metadata": {},
   "source": [
    "## Create a new column for the number of words in the review"
   ]
  },
  {
   "cell_type": "code",
   "execution_count": 22,
   "metadata": {},
   "outputs": [
    {
     "data": {
      "text/plain": [
       "1      58\n",
       "2      30\n",
       "4      30\n",
       "5      82\n",
       "10     32\n",
       "11     49\n",
       "12     21\n",
       "19     70\n",
       "25    131\n",
       "26    112\n",
       "27     19\n",
       "28     28\n",
       "29     20\n",
       "30     15\n",
       "31     28\n",
       "32     31\n",
       "35     31\n",
       "40     49\n",
       "41     26\n",
       "42     47\n",
       "Name: text, dtype: int64"
      ]
     },
     "execution_count": 22,
     "metadata": {},
     "output_type": "execute_result"
    }
   ],
   "source": [
    "# Your code here\n",
    "df['text'].map(lambda x: len(x.split())).head(20)"
   ]
  },
  {
   "cell_type": "markdown",
   "metadata": {},
   "source": [
    "## Rewrite the following as a lambda function\n",
    "\n",
    "Create a new column `'Review_Length'` by applying this lambda function to the `'Review_num_words'` column. "
   ]
  },
  {
   "cell_type": "code",
   "execution_count": null,
   "metadata": {},
   "outputs": [],
   "source": [
    "# Rewrite the following function as a lambda function\n",
    "def rewrite_as_lambda(value):\n",
    "    if len(value) < 50:\n",
    "        return 'Short'\n",
    "    elif len(value) < 80:\n",
    "        return 'Medium'\n",
    "    else:\n",
    "        return 'Long'\n",
    "# Hint: nest your if, else conditionals\n",
    "\n",
    "df['Review_length'] = None\n"
   ]
  },
  {
   "cell_type": "markdown",
   "metadata": {},
   "source": [
    "## Level Up: Dates Advanced!\n",
    "<img src=\"images/world_map.png\" width=\"600\">  \n",
    "\n",
    "Print the first five rows of the `'date'` column. "
   ]
  },
  {
   "cell_type": "code",
   "execution_count": null,
   "metadata": {},
   "outputs": [],
   "source": [
    "# Your code here\n"
   ]
  },
  {
   "cell_type": "markdown",
   "metadata": {},
   "source": [
    "Overwrite the `'date'` column by reordering the month and day from `YYYY-MM-DD` to `DD-MM-YYYY`. Try to do this using a lambda function."
   ]
  },
  {
   "cell_type": "code",
   "execution_count": null,
   "metadata": {},
   "outputs": [],
   "source": [
    "# Your code here\n"
   ]
  },
  {
   "cell_type": "markdown",
   "metadata": {},
   "source": [
    "## Summary\n",
    "\n",
    "Great! Hopefully, you're getting the hang of lambda functions now! It's important not to overuse them - it will often make more sense to define a function so that it's reusable elsewhere. But whenever you need to quickly apply some simple processing to a collection of data you have a new technique that will help you to do just that. It'll also be useful if you're reading someone else's code that happens to use lambdas."
   ]
  }
 ],
 "metadata": {
  "kernelspec": {
   "display_name": "Python 3",
   "language": "python",
   "name": "python3"
  },
  "language_info": {
   "codemirror_mode": {
    "name": "ipython",
    "version": 3
   },
   "file_extension": ".py",
   "mimetype": "text/x-python",
   "name": "python",
   "nbconvert_exporter": "python",
   "pygments_lexer": "ipython3",
   "version": "3.6.9"
  }
 },
 "nbformat": 4,
 "nbformat_minor": 2
}
